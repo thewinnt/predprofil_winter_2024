{
 "cells": [
  {
   "cell_type": "markdown",
   "id": "db6b5228",
   "metadata": {},
   "source": [
    "# Hello World\n",
    "Lorem ipsum dolor sit amet, ..."
   ]
  },
  {
   "cell_type": "code",
   "execution_count": 3,
   "id": "8b70fc62",
   "metadata": {},
   "outputs": [
    {
     "name": "stdout",
     "output_type": "stream",
     "text": [
      "Hello, world\n"
     ]
    }
   ],
   "source": [
    "print(\"Hello, world\")"
   ]
  },
  {
   "cell_type": "code",
   "execution_count": 1,
   "id": "9d6b383b",
   "metadata": {},
   "outputs": [],
   "source": [
    "import cv2\n",
    "\n",
    "image = cv2.imread(\"1.jpg\")"
   ]
  },
  {
   "cell_type": "markdown",
   "id": "89cef1bc",
   "metadata": {},
   "source": [
    "Image format:\n",
    "- `y`\n",
    "- `x`\n",
    "- `bgr` color"
   ]
  },
  {
   "cell_type": "code",
   "execution_count": 10,
   "id": "b14d4fcb",
   "metadata": {},
   "outputs": [],
   "source": [
    "def showImage(title: str, image):\n",
    "    cv2.imshow(title, image)\n",
    "    cv2.waitKey(0)"
   ]
  },
  {
   "cell_type": "code",
   "execution_count": 3,
   "id": "46dc3487",
   "metadata": {},
   "outputs": [],
   "source": [
    "cv2.destroyAllWindows()"
   ]
  },
  {
   "cell_type": "code",
   "execution_count": 2,
   "id": "10bfaf15",
   "metadata": {},
   "outputs": [
    {
     "data": {
      "text/plain": [
       "-1"
      ]
     },
     "execution_count": 2,
     "metadata": {},
     "output_type": "execute_result"
    }
   ],
   "source": [
    "cv2.imshow(\"--- LE BIG KETTLE ---\", image)\n",
    "cv2.waitKey(0)"
   ]
  },
  {
   "cell_type": "code",
   "execution_count": 4,
   "id": "a92d168e",
   "metadata": {},
   "outputs": [
    {
     "name": "stdout",
     "output_type": "stream",
     "text": [
      "(1000, 1000, 3)\n"
     ]
    }
   ],
   "source": [
    "print(image.shape)"
   ]
  },
  {
   "cell_type": "code",
   "execution_count": 9,
   "id": "39e0963f",
   "metadata": {},
   "outputs": [
    {
     "data": {
      "text/plain": [
       "-1"
      ]
     },
     "execution_count": 9,
     "metadata": {},
     "output_type": "execute_result"
    }
   ],
   "source": [
    "image2 = image[100:200, 300:400, (0, 0, 0)]\n",
    "cv2.imshow(\"--- CROPPED KETTLE --- \", image2)\n",
    "cv2.waitKey(0)"
   ]
  },
  {
   "cell_type": "code",
   "execution_count": 13,
   "id": "2d877c26",
   "metadata": {},
   "outputs": [],
   "source": [
    "image3 = image.copy()\n",
    "image3[100:200, 300:400] = (255, 0, 0)\n",
    "showImage(\"--- KETTLE WITH SQUARE ---\", image3)"
   ]
  },
  {
   "cell_type": "code",
   "execution_count": 18,
   "id": "b906f9d6",
   "metadata": {},
   "outputs": [],
   "source": [
    "image4 = image.copy()\n",
    "image4[0:200, 0:400] = (0, 0, 0)\n",
    "showImage(\"--- CENSORED KETTLE ---\", image4)"
   ]
  },
  {
   "cell_type": "code",
   "execution_count": 19,
   "id": "98a977c6",
   "metadata": {},
   "outputs": [],
   "source": [
    "image5 = image.copy()\n",
    "shape = image5.shape\n",
    "width = round(shape[1] * 0.52)\n",
    "height = round(shape[0] * 0.33)\n",
    "image5[0:height, 0:width] = (0, 0, 0)\n",
    "showImage(\"--- CENSORED KETTLE ---\", image5)"
   ]
  },
  {
   "cell_type": "code",
   "execution_count": 29,
   "id": "697a02a6",
   "metadata": {},
   "outputs": [],
   "source": [
    "image5 = image.copy()\n",
    "shape = image5.shape\n",
    "height, width = shape[0], shape[1]\n",
    "image5[height // 4 : height * 3 // 4, width // 4 : width * 3 // 4] = (0, 160, 224)\n",
    "showImage(\"--- CENSORED KETTLE ---\", image5)"
   ]
  }
 ],
 "metadata": {
  "kernelspec": {
   "display_name": "Python 3 (ipykernel)",
   "language": "python",
   "name": "python3"
  },
  "language_info": {
   "codemirror_mode": {
    "name": "ipython",
    "version": 3
   },
   "file_extension": ".py",
   "mimetype": "text/x-python",
   "name": "python",
   "nbconvert_exporter": "python",
   "pygments_lexer": "ipython3",
   "version": "3.11.5"
  }
 },
 "nbformat": 4,
 "nbformat_minor": 5
}

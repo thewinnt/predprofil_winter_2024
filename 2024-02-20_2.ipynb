{
 "cells": [
  {
   "cell_type": "code",
   "execution_count": 1,
   "metadata": {},
   "outputs": [],
   "source": [
    "import cv2"
   ]
  },
  {
   "cell_type": "code",
   "execution_count": 14,
   "metadata": {},
   "outputs": [],
   "source": [
    "cv2.destroyAllWindows()"
   ]
  },
  {
   "cell_type": "code",
   "execution_count": null,
   "metadata": {},
   "outputs": [],
   "source": [
    "# start a video capture from camera {index}\n",
    "video = cv2.VideoCapture(1)  # i think cam 1 is obs?\n",
    "\n",
    "while True:\n",
    "    # VideoCapture#read() returns:\n",
    "    # - whether it's successful\n",
    "    # - the frame itself\n",
    "    success, frame = video.read()\n",
    "    cv2.imshow(\"Camera Capture\", frame)\n",
    "    key = cv2.waitKey(1)  # waits 1 ms for a key press and closes the window, returning the key\n",
    "    if key == ord(' '):\n",
    "        break\n",
    "\n",
    "video.release()\n",
    "cv2.destroyAllWindows()"
   ]
  },
  {
   "cell_type": "code",
   "execution_count": 4,
   "metadata": {},
   "outputs": [
    {
     "name": "stdout",
     "output_type": "stream",
     "text": [
      "(480, 640, 3)\n"
     ]
    }
   ],
   "source": [
    "# start a video capture from camera {index}\n",
    "import numpy\n",
    "\n",
    "\n",
    "video = cv2.VideoCapture(1)  # i think cam 1 is obs?\n",
    "\n",
    "while True:\n",
    "    # VideoCapture#read() returns:\n",
    "    # - whether it's successful\n",
    "    # - the frame itself\n",
    "    success, frame = video.read()\n",
    "\n",
    "    # process frame\n",
    "    if success:\n",
    "        frame = frame[:, :, ::-1]\n",
    "\n",
    "        cv2.imshow(\"Camera Capture\", frame)\n",
    "        key = cv2.waitKey(1)  # waits 1 ms for a key press and closes the window, returning the key\n",
    "        if key == ord(' '):\n",
    "            break\n",
    "\n",
    "print(frame.shape)\n",
    "\n",
    "video.release()\n",
    "cv2.destroyAllWindows()"
   ]
  }
 ],
 "metadata": {
  "kernelspec": {
   "display_name": "base",
   "language": "python",
   "name": "python3"
  },
  "language_info": {
   "codemirror_mode": {
    "name": "ipython",
    "version": 3
   },
   "file_extension": ".py",
   "mimetype": "text/x-python",
   "name": "python",
   "nbconvert_exporter": "python",
   "pygments_lexer": "ipython3",
   "version": "3.11.5"
  }
 },
 "nbformat": 4,
 "nbformat_minor": 2
}
